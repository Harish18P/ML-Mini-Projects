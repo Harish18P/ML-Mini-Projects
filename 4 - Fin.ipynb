{
  "nbformat": 4,
  "nbformat_minor": 0,
  "metadata": {
    "colab": {
      "provenance": [],
      "gpuType": "T4"
    },
    "kernelspec": {
      "name": "python3",
      "display_name": "Python 3"
    },
    "language_info": {
      "name": "python"
    },
    "accelerator": "GPU"
  },
  "cells": [
    {
      "cell_type": "markdown",
      "source": [
        "Q1. KNN"
      ],
      "metadata": {
        "id": "SjOkinuL_yV1"
      }
    },
    {
      "cell_type": "code",
      "execution_count": null,
      "metadata": {
        "id": "eI5Bmfev-Byu",
        "colab": {
          "base_uri": "https://localhost:8080/"
        },
        "outputId": "58a678e3-06cb-44e3-d0be-76e9d67438f7"
      },
      "outputs": [
        {
          "output_type": "stream",
          "name": "stdout",
          "text": [
            "Harish P\n",
            "21BBS0204\n"
          ]
        }
      ],
      "source": [
        "print(\"Harish P\",\"21BBS0204\",sep='\\n')\n",
        "import numpy as np\n",
        "import pandas as pd\n",
        "from sklearn.neighbors import KNeighborsClassifier\n",
        "from sklearn.model_selection import train_test_split\n",
        "from sklearn.metrics import accuracy_score\n",
        "from sklearn.metrics import confusion_matrix\n",
        "from sklearn.metrics import classification_report"
      ]
    },
    {
      "cell_type": "code",
      "source": [
        "df = pd.read_csv('/content/KNN.csv')\n",
        "df.head(2)"
      ],
      "metadata": {
        "id": "5ea_zXSJ-Y8I"
      },
      "execution_count": null,
      "outputs": []
    },
    {
      "cell_type": "code",
      "source": [
        "print(\"Harish P\",\"21BBS0204\",sep='\\n')\n",
        "df.info()"
      ],
      "metadata": {
        "id": "LOta2Lyl-eGA"
      },
      "execution_count": null,
      "outputs": []
    },
    {
      "cell_type": "code",
      "source": [
        "df.drop('Name',axis=1,inplace=True)"
      ],
      "metadata": {
        "id": "dHPKPsGR-g0q"
      },
      "execution_count": null,
      "outputs": []
    },
    {
      "cell_type": "code",
      "source": [
        "print(\"Harish P\",\"21BBS0204\",sep='\\n')\n",
        "from sklearn.preprocessing import LabelEncoder\n",
        "le = LabelEncoder()\n",
        "for column in df.columns:\n",
        "    if df[column].dtype == 'object':\n",
        "        df[column] = le.fit_transform(df[column])\n",
        "df.head(2)"
      ],
      "metadata": {
        "id": "520MK1Om-mnM"
      },
      "execution_count": null,
      "outputs": []
    },
    {
      "cell_type": "code",
      "source": [
        "x = df.drop('Health_Status',axis=1)\n",
        "y = df['Health_Status']"
      ],
      "metadata": {
        "id": "gV8cK7Px-sGs"
      },
      "execution_count": null,
      "outputs": []
    },
    {
      "cell_type": "code",
      "source": [
        "x_train, x_test, y_train, y_test = train_test_split(x, y, test_size=0.25, random_state=12)"
      ],
      "metadata": {
        "id": "Idzq7lvR_LvA"
      },
      "execution_count": null,
      "outputs": []
    },
    {
      "cell_type": "code",
      "source": [
        "knn = KNeighborsClassifier()\n",
        "knn.fit(x_train,y_train)\n",
        "y_pred = knn.predict(x_test)"
      ],
      "metadata": {
        "id": "LmUo4lBO_N_3"
      },
      "execution_count": null,
      "outputs": []
    },
    {
      "cell_type": "code",
      "source": [
        "print(\"Harish P\",\"21BBS0204\",sep='\\n')\n",
        "accuracy_score(y_test,y_pred)"
      ],
      "metadata": {
        "id": "JmG2kJWw_dSZ"
      },
      "execution_count": null,
      "outputs": []
    },
    {
      "cell_type": "code",
      "source": [
        "print(classification_report(y_test,y_pred))"
      ],
      "metadata": {
        "id": "NZFpvMGp_XRS"
      },
      "execution_count": null,
      "outputs": []
    },
    {
      "cell_type": "code",
      "source": [
        "confusion_matrix(y_test,y_pred)"
      ],
      "metadata": {
        "id": "LesTvRkw_cZe"
      },
      "execution_count": null,
      "outputs": []
    },
    {
      "cell_type": "markdown",
      "source": [
        "Q2. Naive Bayes"
      ],
      "metadata": {
        "id": "WfGdc00_At5J"
      }
    },
    {
      "cell_type": "code",
      "source": [
        "print(\"Harish P\",\"21BBS0204\",sep='\\n')\n",
        "import pandas as pd\n",
        "from sklearn.model_selection import train_test_split\n",
        "from sklearn.naive_bayes import GaussianNB\n",
        "from sklearn.preprocessing import LabelEncoder\n",
        "import numpy as np"
      ],
      "metadata": {
        "id": "KgJzLVcGAwxb"
      },
      "execution_count": null,
      "outputs": []
    },
    {
      "cell_type": "code",
      "source": [
        "df = pd.read_csv('/content/Naive.csv')\n",
        "df.head(2)"
      ],
      "metadata": {
        "id": "fFP2dwmj1tiK"
      },
      "execution_count": null,
      "outputs": []
    },
    {
      "cell_type": "code",
      "source": [
        "x = df[['Income (in K)', 'Criminal Record', 'EXP']]\n",
        "y = df['Loan Approved?']\n",
        "\n",
        "y1 = y"
      ],
      "metadata": {
        "id": "2Cw9lSqj2Ljn"
      },
      "execution_count": null,
      "outputs": []
    },
    {
      "cell_type": "code",
      "source": [
        "print(\"Harish P\",\"21BBS0204\",sep='\\n')\n",
        "le = LabelEncoder()\n",
        "for column in x.columns:\n",
        "    if x[column].dtype == 'object':\n",
        "        x.loc[:, column] = le.fit_transform(x[column])\n",
        "x.head(2)"
      ],
      "metadata": {
        "id": "4KRvBJbu1zjD"
      },
      "execution_count": null,
      "outputs": []
    },
    {
      "cell_type": "code",
      "source": [
        "y_le = LabelEncoder()\n",
        "y = y_le.fit_transform(y)"
      ],
      "metadata": {
        "id": "d8mmf8F28sYk"
      },
      "execution_count": null,
      "outputs": []
    },
    {
      "cell_type": "code",
      "source": [
        "naive = GaussianNB(var_smoothing = 1.0)\n",
        "naive.fit(x,y)"
      ],
      "metadata": {
        "id": "3F59gTnM2hyj"
      },
      "execution_count": null,
      "outputs": []
    },
    {
      "cell_type": "code",
      "source": [
        "print(\"Harish P\",\"21BBS0204\",sep='\\n')\n",
        "q_case = np.array([[1, 1, 2]])\n",
        "prediction = naive.predict(q_case)"
      ],
      "metadata": {
        "id": "Hx6qs7p43EE4"
      },
      "execution_count": null,
      "outputs": []
    },
    {
      "cell_type": "code",
      "source": [
        "y_le = LabelEncoder()\n",
        "y2 = y_le.fit_transform(y1)\n",
        "\n",
        "probabilities = naive.predict_proba(q_case)\n",
        "print(f\"Predicted class: {y_le.inverse_transform(prediction)[0]}\")\n",
        "print(f\"Probability of No: {probabilities[0][0]:.4f}\")\n",
        "print(f\"Probability of Yes: {probabilities[0][1]:.4f}\")"
      ],
      "metadata": {
        "id": "MI_KeIGZ3KLl"
      },
      "execution_count": null,
      "outputs": []
    }
  ]
}